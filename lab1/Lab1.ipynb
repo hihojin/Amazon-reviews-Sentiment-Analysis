{
  "cells": [
    {
      "cell_type": "markdown",
      "metadata": {
        "id": "gVxoqefHt2k9"
      },
      "source": [
        "## Lab 1\n",
        "#### Name: Hyojin Kwak\n",
        "\n",
        "#### CS 7290, Societal Impact of Data Sciences\n",
        "\n",
        "#### Data Collection and Sentiment Analysis\n",
        "\n",
        "This lab consists of 6 graded problems. \n",
        "For each problem, an example code snippet is provided. You are welcome to reuse and modify the provided\n",
        "example code snippets to answer the lab problems.\n",
        "\n",
        "### Acknowledgement:\n",
        "Marcin Zablocki's blog post, \"SENTIMENT ANALYSIS OF TWEETS WITH PYTHON, NLTK, WORD2VEC & SCIKIT-LEARN\",\n",
        "https://zablo.net/blog/post/twitter-sentiment-analysis-python-scikit-word2vec-nltk-xgboost/index.html\n",
        "\n",
        "Pranav Manoj's blog post, \"Sentiment Analysis Using Python and NLTK\"\n",
        "https://medium.com/swlh/sentiment-analysis-using-python-and-nltk-library-d68caba27e1d"
      ]
    },
    {
      "cell_type": "markdown",
      "metadata": {
        "id": "6p_npliJuVZO"
      },
      "source": [
        "## Part 0 - NLTK and Sentiment Intensity Analyzer Setup"
      ]
    },
    {
      "cell_type": "code",
      "execution_count": 1,
      "metadata": {
        "colab": {
          "base_uri": "https://localhost:8080/"
        },
        "id": "jr-bfXgXuZd4",
        "outputId": "46b1eab4-87f5-4c3f-9d9f-bd513fbb570c"
      },
      "outputs": [
        {
          "name": "stderr",
          "output_type": "stream",
          "text": [
            "[nltk_data] Error loading vader_lexicon: <urlopen error [SSL:\n",
            "[nltk_data]     CERTIFICATE_VERIFY_FAILED] certificate verify failed:\n",
            "[nltk_data]     unable to get local issuer certificate (_ssl.c:997)>\n"
          ]
        }
      ],
      "source": [
        "import nltk\n",
        "nltk.download('vader_lexicon')\n",
        "from nltk.sentiment.vader import SentimentIntensityAnalyzer\n",
        "sentimentAnalyzer = SentimentIntensityAnalyzer()\n"
      ]
    },
    {
      "cell_type": "markdown",
      "metadata": {
        "id": "DWWTDntFvJiv"
      },
      "source": [
        "## Problem 1 - Trying Out Sentiment Intensity Analyzer [5 points]\n",
        "\n",
        "\n",
        "In this problem, your goal is examine our sentiment analyzer, and to see what the analyzer recognized as the **positive** sentiment, **negative** sentiment and a **neutral** sentiment.\n",
        "\n",
        "Using the code below, please come up with three sample sentences that achieve the following:\n",
        "* Compound sentiment of at least 0.8, representing a sentence with an overall very positive sentiment. \n",
        "* Compound sentiment of at least -0.7, representing a sentence with an overall negative sentiment. \n",
        "* A sentence with a neutral sentiment, represented by a neutral sentiment equal to 1.\n"
      ]
    },
    {
      "cell_type": "code",
      "execution_count": 2,
      "metadata": {
        "colab": {
          "base_uri": "https://localhost:8080/"
        },
        "id": "T_L49d7vwbtw",
        "outputId": "743071eb-d8b7-4d36-b486-56f62cce5d46"
      },
      "outputs": [
        {
          "data": {
            "text/plain": [
              "{'neg': 0.0, 'neu': 1.0, 'pos': 0.0, 'compound': 0.0}"
            ]
          },
          "execution_count": 2,
          "metadata": {},
          "output_type": "execute_result"
        }
      ],
      "source": [
        "sample = \"Tomorrow is going to be a day!\"\n",
        "sentimentAnalyzer.polarity_scores(sample)"
      ]
    },
    {
      "cell_type": "markdown",
      "metadata": {
        "id": "bpvfMgxj_r1b"
      },
      "source": []
    },
    {
      "cell_type": "markdown",
      "metadata": {},
      "source": [
        "### Your Answer Here:\n",
        "\n",
        "\n",
        "\n",
        "\n"
      ]
    },
    {
      "cell_type": "code",
      "execution_count": 3,
      "metadata": {},
      "outputs": [
        {
          "data": {
            "text/plain": [
              "{'neg': 0.0, 'neu': 0.122, 'pos': 0.878, 'compound': 0.8007}"
            ]
          },
          "execution_count": 3,
          "metadata": {},
          "output_type": "execute_result"
        }
      ],
      "source": [
        "very_positive = 'I am super excited!!!'\n",
        "sentimentAnalyzer.polarity_scores(very_positive)"
      ]
    },
    {
      "cell_type": "code",
      "execution_count": 4,
      "metadata": {},
      "outputs": [
        {
          "data": {
            "text/plain": [
              "{'neg': 0.711, 'neu': 0.289, 'pos': 0.0, 'compound': -0.8122}"
            ]
          },
          "execution_count": 4,
          "metadata": {},
          "output_type": "execute_result"
        }
      ],
      "source": [
        "negative_sentiment = 'I feel devastated. I am so sad.'\n",
        "sentimentAnalyzer.polarity_scores(negative_sentiment)"
      ]
    },
    {
      "cell_type": "code",
      "execution_count": 6,
      "metadata": {},
      "outputs": [
        {
          "data": {
            "text/plain": [
              "{'neg': 0.0, 'neu': 1.0, 'pos': 0.0, 'compound': 0.0}"
            ]
          },
          "execution_count": 6,
          "metadata": {},
          "output_type": "execute_result"
        }
      ],
      "source": [
        "neutral = 'What a day.'\n",
        "sentimentAnalyzer.polarity_scores(neutral)"
      ]
    },
    {
      "cell_type": "markdown",
      "metadata": {
        "id": "4w3Sq7goxtOd"
      },
      "source": [
        "## Problem 2 - Out Smarting Sentiment Intensity Analyzer [10 points]\n",
        "\n",
        "In this problem, your goal is to try to out smart the sentiment intensity analyzer we are using. \n",
        "\n",
        "Using the code below, please come up with four sample sentences that achieve the following:\n",
        "* Two sentences that can be reasonable recognized by a human as having a positive sentiment, but the analyzer recognizes as having a negative sentiment, such that the compound sentiment is at least -0.6.\n",
        "* Two sentences that can be reasonable recognized by a human as having a negative sentiment, but the analyzer recognizes as having a positive sentiment, such that the compound sentiment is at least 0.6.\n"
      ]
    },
    {
      "cell_type": "code",
      "execution_count": 7,
      "metadata": {
        "colab": {
          "base_uri": "https://localhost:8080/"
        },
        "id": "CjIyF73-ykcN",
        "outputId": "51ba5b5d-2583-4025-becd-385a9df7dee2"
      },
      "outputs": [
        {
          "data": {
            "text/plain": [
              "{'neg': 0.0, 'neu': 0.781, 'pos': 0.219, 'compound': 0.4754}"
            ]
          },
          "execution_count": 7,
          "metadata": {},
          "output_type": "execute_result"
        }
      ],
      "source": [
        "sample = \"Very nice and potent perfume. How long have you marinated in it?\"\n",
        "sentimentAnalyzer.polarity_scores(sample)"
      ]
    },
    {
      "cell_type": "code",
      "execution_count": 8,
      "metadata": {
        "colab": {
          "base_uri": "https://localhost:8080/"
        },
        "id": "I7pzREQfzbNK",
        "outputId": "77c88ec6-c376-42d5-af9e-5a4c4e20050f"
      },
      "outputs": [
        {
          "data": {
            "text/plain": [
              "{'neg': 0.122, 'neu': 0.588, 'pos': 0.29, 'compound': 0.6124}"
            ]
          },
          "execution_count": 8,
          "metadata": {},
          "output_type": "execute_result"
        }
      ],
      "source": [
        "sample = \"How wonderful and exciting, he yelled at the sky, thinking about the wreck that was his life...\"\n",
        "sentimentAnalyzer.polarity_scores(sample)"
      ]
    },
    {
      "cell_type": "markdown",
      "metadata": {
        "id": "1kJs45h9_u27"
      },
      "source": [
        "### Your Answer Here:\n",
        "\n",
        "\n",
        "\n",
        "\n"
      ]
    },
    {
      "cell_type": "code",
      "execution_count": 9,
      "metadata": {},
      "outputs": [
        {
          "data": {
            "text/plain": [
              "{'neg': 0.411, 'neu': 0.589, 'pos': 0.0, 'compound': -0.636}"
            ]
          },
          "execution_count": 9,
          "metadata": {},
          "output_type": "execute_result"
        }
      ],
      "source": [
        "positive = 'Nonesense! You know I will die for you'\n",
        "sentimentAnalyzer.polarity_scores(positive)"
      ]
    },
    {
      "cell_type": "code",
      "execution_count": 10,
      "metadata": {},
      "outputs": [
        {
          "data": {
            "text/plain": [
              "{'neg': 0.342, 'neu': 0.658, 'pos': 0.0, 'compound': -0.636}"
            ]
          },
          "execution_count": 10,
          "metadata": {},
          "output_type": "execute_result"
        }
      ],
      "source": [
        "positive = 'He cried and screamed in the air when he got an offer!' \n",
        "sentimentAnalyzer.polarity_scores(positive)"
      ]
    },
    {
      "cell_type": "code",
      "execution_count": 11,
      "metadata": {},
      "outputs": [
        {
          "data": {
            "text/plain": [
              "{'neg': 0.0, 'neu': 0.681, 'pos': 0.319, 'compound': 0.7259}"
            ]
          },
          "execution_count": 11,
          "metadata": {},
          "output_type": "execute_result"
        }
      ],
      "source": [
        "negative = 'You know what? I have been failling so many times that I don\\'t even feel sad LOL.'\n",
        "sentimentAnalyzer.polarity_scores(negative)"
      ]
    },
    {
      "cell_type": "code",
      "execution_count": 12,
      "metadata": {},
      "outputs": [
        {
          "data": {
            "text/plain": [
              "{'neg': 0.0, 'neu': 0.568, 'pos': 0.432, 'compound': 0.8234}"
            ]
          },
          "execution_count": 12,
          "metadata": {},
          "output_type": "execute_result"
        }
      ],
      "source": [
        "negative = 'In all these years I have done nothing. Isn\\'t it so funny? Hahaha'\n",
        "sentimentAnalyzer.polarity_scores(negative)"
      ]
    },
    {
      "cell_type": "markdown",
      "metadata": {
        "id": "aY_rfnXy0CYr"
      },
      "source": [
        "## Problem 3 - Analyzing a Real Data Set [30 points]\n",
        "\n",
        "In this problem, we are going to use a real data set, *amazonreviews.tsv*:\n",
        "https://drive.google.com/file/d/1DT4C6c7hByy8ugghW2OfXzVqIj-ByAUT/view\n",
        "\n",
        "Code snippets below represent how to import the given data set, and how to pre-process it."
      ]
    },
    {
      "cell_type": "markdown",
      "metadata": {
        "id": "5UCZIBJ523JJ"
      },
      "source": [
        "In the code below, we start by importing **numpy** and **pandas** libraries. \n",
        "\n",
        "We then read the file using pandas. The given file contains raw Amazon user reviews, and those reviews have already been divided and labeled as positive and negative reviews. "
      ]
    },
    {
      "cell_type": "code",
      "execution_count": 13,
      "metadata": {
        "colab": {
          "base_uri": "https://localhost:8080/"
        },
        "id": "xit3LWBr0WlP",
        "outputId": "6cdc2344-497c-4764-e997-eb6704c847a0"
      },
      "outputs": [
        {
          "data": {
            "text/plain": [
              "neg    5097\n",
              "pos    4903\n",
              "Name: label, dtype: int64"
            ]
          },
          "execution_count": 13,
          "metadata": {},
          "output_type": "execute_result"
        }
      ],
      "source": [
        "import numpy as np\n",
        "import pandas as pd\n",
        "\n",
        "df = pd.read_csv('amazonreviews.tsv', sep = '\\t')\n",
        "df['label'].value_counts()\n"
      ]
    },
    {
      "cell_type": "markdown",
      "metadata": {
        "id": "8_F2p6Jt3Wiu"
      },
      "source": [
        "In the code below, we expand the read-in dataframe by adding the polarity scores obtained using our sentiment intensity analyzer. "
      ]
    },
    {
      "cell_type": "code",
      "execution_count": 15,
      "metadata": {
        "colab": {
          "base_uri": "https://localhost:8080/",
          "height": 359
        },
        "id": "DM4IDjXS1WJY",
        "outputId": "a1acf4af-edb1-4dfe-ce5c-38ee1f35bb20"
      },
      "outputs": [
        {
          "data": {
            "text/html": [
              "<div>\n",
              "<style scoped>\n",
              "    .dataframe tbody tr th:only-of-type {\n",
              "        vertical-align: middle;\n",
              "    }\n",
              "\n",
              "    .dataframe tbody tr th {\n",
              "        vertical-align: top;\n",
              "    }\n",
              "\n",
              "    .dataframe thead th {\n",
              "        text-align: right;\n",
              "    }\n",
              "</style>\n",
              "<table border=\"1\" class=\"dataframe\">\n",
              "  <thead>\n",
              "    <tr style=\"text-align: right;\">\n",
              "      <th></th>\n",
              "      <th>label</th>\n",
              "      <th>review</th>\n",
              "      <th>scores</th>\n",
              "    </tr>\n",
              "  </thead>\n",
              "  <tbody>\n",
              "    <tr>\n",
              "      <th>0</th>\n",
              "      <td>pos</td>\n",
              "      <td>Stuning even for the non-gamer: This sound tra...</td>\n",
              "      <td>{'neg': 0.088, 'neu': 0.669, 'pos': 0.243, 'co...</td>\n",
              "    </tr>\n",
              "    <tr>\n",
              "      <th>1</th>\n",
              "      <td>pos</td>\n",
              "      <td>The best soundtrack ever to anything.: I'm rea...</td>\n",
              "      <td>{'neg': 0.018, 'neu': 0.837, 'pos': 0.145, 'co...</td>\n",
              "    </tr>\n",
              "    <tr>\n",
              "      <th>2</th>\n",
              "      <td>pos</td>\n",
              "      <td>Amazing!: This soundtrack is my favorite music...</td>\n",
              "      <td>{'neg': 0.04, 'neu': 0.692, 'pos': 0.268, 'com...</td>\n",
              "    </tr>\n",
              "    <tr>\n",
              "      <th>3</th>\n",
              "      <td>pos</td>\n",
              "      <td>Excellent Soundtrack: I truly like this soundt...</td>\n",
              "      <td>{'neg': 0.09, 'neu': 0.615, 'pos': 0.295, 'com...</td>\n",
              "    </tr>\n",
              "    <tr>\n",
              "      <th>4</th>\n",
              "      <td>pos</td>\n",
              "      <td>Remember, Pull Your Jaw Off The Floor After He...</td>\n",
              "      <td>{'neg': 0.0, 'neu': 0.746, 'pos': 0.254, 'comp...</td>\n",
              "    </tr>\n",
              "    <tr>\n",
              "      <th>5</th>\n",
              "      <td>pos</td>\n",
              "      <td>an absolute masterpiece: I am quite sure any o...</td>\n",
              "      <td>{'neg': 0.014, 'neu': 0.737, 'pos': 0.249, 'co...</td>\n",
              "    </tr>\n",
              "    <tr>\n",
              "      <th>6</th>\n",
              "      <td>neg</td>\n",
              "      <td>Buyer beware: This is a self-published book, a...</td>\n",
              "      <td>{'neg': 0.124, 'neu': 0.806, 'pos': 0.069, 'co...</td>\n",
              "    </tr>\n",
              "    <tr>\n",
              "      <th>7</th>\n",
              "      <td>pos</td>\n",
              "      <td>Glorious story: I loved Whisper of the wicked ...</td>\n",
              "      <td>{'neg': 0.072, 'neu': 0.583, 'pos': 0.346, 'co...</td>\n",
              "    </tr>\n",
              "    <tr>\n",
              "      <th>8</th>\n",
              "      <td>pos</td>\n",
              "      <td>A FIVE STAR BOOK: I just finished reading Whis...</td>\n",
              "      <td>{'neg': 0.113, 'neu': 0.712, 'pos': 0.174, 'co...</td>\n",
              "    </tr>\n",
              "    <tr>\n",
              "      <th>9</th>\n",
              "      <td>pos</td>\n",
              "      <td>Whispers of the Wicked Saints: This was a easy...</td>\n",
              "      <td>{'neg': 0.033, 'neu': 0.777, 'pos': 0.19, 'com...</td>\n",
              "    </tr>\n",
              "  </tbody>\n",
              "</table>\n",
              "</div>"
            ],
            "text/plain": [
              "  label                                             review  \\\n",
              "0   pos  Stuning even for the non-gamer: This sound tra...   \n",
              "1   pos  The best soundtrack ever to anything.: I'm rea...   \n",
              "2   pos  Amazing!: This soundtrack is my favorite music...   \n",
              "3   pos  Excellent Soundtrack: I truly like this soundt...   \n",
              "4   pos  Remember, Pull Your Jaw Off The Floor After He...   \n",
              "5   pos  an absolute masterpiece: I am quite sure any o...   \n",
              "6   neg  Buyer beware: This is a self-published book, a...   \n",
              "7   pos  Glorious story: I loved Whisper of the wicked ...   \n",
              "8   pos  A FIVE STAR BOOK: I just finished reading Whis...   \n",
              "9   pos  Whispers of the Wicked Saints: This was a easy...   \n",
              "\n",
              "                                              scores  \n",
              "0  {'neg': 0.088, 'neu': 0.669, 'pos': 0.243, 'co...  \n",
              "1  {'neg': 0.018, 'neu': 0.837, 'pos': 0.145, 'co...  \n",
              "2  {'neg': 0.04, 'neu': 0.692, 'pos': 0.268, 'com...  \n",
              "3  {'neg': 0.09, 'neu': 0.615, 'pos': 0.295, 'com...  \n",
              "4  {'neg': 0.0, 'neu': 0.746, 'pos': 0.254, 'comp...  \n",
              "5  {'neg': 0.014, 'neu': 0.737, 'pos': 0.249, 'co...  \n",
              "6  {'neg': 0.124, 'neu': 0.806, 'pos': 0.069, 'co...  \n",
              "7  {'neg': 0.072, 'neu': 0.583, 'pos': 0.346, 'co...  \n",
              "8  {'neg': 0.113, 'neu': 0.712, 'pos': 0.174, 'co...  \n",
              "9  {'neg': 0.033, 'neu': 0.777, 'pos': 0.19, 'com...  "
            ]
          },
          "execution_count": 15,
          "metadata": {},
          "output_type": "execute_result"
        }
      ],
      "source": [
        "df['scores'] = df['review'].apply(lambda review: sentimentAnalyzer.polarity_scores(review))\n",
        "df.head(10)"
      ]
    },
    {
      "cell_type": "markdown",
      "metadata": {
        "id": "Z17-nfBz3iUN"
      },
      "source": [
        "The tricky part about the data that we have at this point is that the label provided in the file are qualitative (positive, negative labels), whereas our sentiment intensity analyzer provides a 4-tuple of numerical values for the sentiment.\n",
        "\n",
        "So, we first pull out the compound sentiment as a numerical sentiment value of interest. "
      ]
    },
    {
      "cell_type": "code",
      "execution_count": 16,
      "metadata": {
        "colab": {
          "base_uri": "https://localhost:8080/",
          "height": 359
        },
        "id": "SqWKJmZK13xC",
        "outputId": "2bccee53-85d5-4a42-d2ff-ef5f58ab4ce3"
      },
      "outputs": [
        {
          "data": {
            "text/html": [
              "<div>\n",
              "<style scoped>\n",
              "    .dataframe tbody tr th:only-of-type {\n",
              "        vertical-align: middle;\n",
              "    }\n",
              "\n",
              "    .dataframe tbody tr th {\n",
              "        vertical-align: top;\n",
              "    }\n",
              "\n",
              "    .dataframe thead th {\n",
              "        text-align: right;\n",
              "    }\n",
              "</style>\n",
              "<table border=\"1\" class=\"dataframe\">\n",
              "  <thead>\n",
              "    <tr style=\"text-align: right;\">\n",
              "      <th></th>\n",
              "      <th>label</th>\n",
              "      <th>review</th>\n",
              "      <th>scores</th>\n",
              "      <th>compound</th>\n",
              "    </tr>\n",
              "  </thead>\n",
              "  <tbody>\n",
              "    <tr>\n",
              "      <th>0</th>\n",
              "      <td>pos</td>\n",
              "      <td>Stuning even for the non-gamer: This sound tra...</td>\n",
              "      <td>{'neg': 0.088, 'neu': 0.669, 'pos': 0.243, 'co...</td>\n",
              "      <td>0.9454</td>\n",
              "    </tr>\n",
              "    <tr>\n",
              "      <th>1</th>\n",
              "      <td>pos</td>\n",
              "      <td>The best soundtrack ever to anything.: I'm rea...</td>\n",
              "      <td>{'neg': 0.018, 'neu': 0.837, 'pos': 0.145, 'co...</td>\n",
              "      <td>0.8957</td>\n",
              "    </tr>\n",
              "    <tr>\n",
              "      <th>2</th>\n",
              "      <td>pos</td>\n",
              "      <td>Amazing!: This soundtrack is my favorite music...</td>\n",
              "      <td>{'neg': 0.04, 'neu': 0.692, 'pos': 0.268, 'com...</td>\n",
              "      <td>0.9858</td>\n",
              "    </tr>\n",
              "    <tr>\n",
              "      <th>3</th>\n",
              "      <td>pos</td>\n",
              "      <td>Excellent Soundtrack: I truly like this soundt...</td>\n",
              "      <td>{'neg': 0.09, 'neu': 0.615, 'pos': 0.295, 'com...</td>\n",
              "      <td>0.9814</td>\n",
              "    </tr>\n",
              "    <tr>\n",
              "      <th>4</th>\n",
              "      <td>pos</td>\n",
              "      <td>Remember, Pull Your Jaw Off The Floor After He...</td>\n",
              "      <td>{'neg': 0.0, 'neu': 0.746, 'pos': 0.254, 'comp...</td>\n",
              "      <td>0.9781</td>\n",
              "    </tr>\n",
              "    <tr>\n",
              "      <th>5</th>\n",
              "      <td>pos</td>\n",
              "      <td>an absolute masterpiece: I am quite sure any o...</td>\n",
              "      <td>{'neg': 0.014, 'neu': 0.737, 'pos': 0.249, 'co...</td>\n",
              "      <td>0.9900</td>\n",
              "    </tr>\n",
              "    <tr>\n",
              "      <th>6</th>\n",
              "      <td>neg</td>\n",
              "      <td>Buyer beware: This is a self-published book, a...</td>\n",
              "      <td>{'neg': 0.124, 'neu': 0.806, 'pos': 0.069, 'co...</td>\n",
              "      <td>-0.8744</td>\n",
              "    </tr>\n",
              "    <tr>\n",
              "      <th>7</th>\n",
              "      <td>pos</td>\n",
              "      <td>Glorious story: I loved Whisper of the wicked ...</td>\n",
              "      <td>{'neg': 0.072, 'neu': 0.583, 'pos': 0.346, 'co...</td>\n",
              "      <td>0.9900</td>\n",
              "    </tr>\n",
              "    <tr>\n",
              "      <th>8</th>\n",
              "      <td>pos</td>\n",
              "      <td>A FIVE STAR BOOK: I just finished reading Whis...</td>\n",
              "      <td>{'neg': 0.113, 'neu': 0.712, 'pos': 0.174, 'co...</td>\n",
              "      <td>0.8353</td>\n",
              "    </tr>\n",
              "    <tr>\n",
              "      <th>9</th>\n",
              "      <td>pos</td>\n",
              "      <td>Whispers of the Wicked Saints: This was a easy...</td>\n",
              "      <td>{'neg': 0.033, 'neu': 0.777, 'pos': 0.19, 'com...</td>\n",
              "      <td>0.8196</td>\n",
              "    </tr>\n",
              "  </tbody>\n",
              "</table>\n",
              "</div>"
            ],
            "text/plain": [
              "  label                                             review  \\\n",
              "0   pos  Stuning even for the non-gamer: This sound tra...   \n",
              "1   pos  The best soundtrack ever to anything.: I'm rea...   \n",
              "2   pos  Amazing!: This soundtrack is my favorite music...   \n",
              "3   pos  Excellent Soundtrack: I truly like this soundt...   \n",
              "4   pos  Remember, Pull Your Jaw Off The Floor After He...   \n",
              "5   pos  an absolute masterpiece: I am quite sure any o...   \n",
              "6   neg  Buyer beware: This is a self-published book, a...   \n",
              "7   pos  Glorious story: I loved Whisper of the wicked ...   \n",
              "8   pos  A FIVE STAR BOOK: I just finished reading Whis...   \n",
              "9   pos  Whispers of the Wicked Saints: This was a easy...   \n",
              "\n",
              "                                              scores  compound  \n",
              "0  {'neg': 0.088, 'neu': 0.669, 'pos': 0.243, 'co...    0.9454  \n",
              "1  {'neg': 0.018, 'neu': 0.837, 'pos': 0.145, 'co...    0.8957  \n",
              "2  {'neg': 0.04, 'neu': 0.692, 'pos': 0.268, 'com...    0.9858  \n",
              "3  {'neg': 0.09, 'neu': 0.615, 'pos': 0.295, 'com...    0.9814  \n",
              "4  {'neg': 0.0, 'neu': 0.746, 'pos': 0.254, 'comp...    0.9781  \n",
              "5  {'neg': 0.014, 'neu': 0.737, 'pos': 0.249, 'co...    0.9900  \n",
              "6  {'neg': 0.124, 'neu': 0.806, 'pos': 0.069, 'co...   -0.8744  \n",
              "7  {'neg': 0.072, 'neu': 0.583, 'pos': 0.346, 'co...    0.9900  \n",
              "8  {'neg': 0.113, 'neu': 0.712, 'pos': 0.174, 'co...    0.8353  \n",
              "9  {'neg': 0.033, 'neu': 0.777, 'pos': 0.19, 'com...    0.8196  "
            ]
          },
          "execution_count": 16,
          "metadata": {},
          "output_type": "execute_result"
        }
      ],
      "source": [
        "df['compound'] = df['scores'].apply(lambda score_dict: score_dict['compound'])\n",
        "df.head(10)"
      ]
    },
    {
      "cell_type": "markdown",
      "metadata": {
        "id": "1XkX0MmN36CH"
      },
      "source": [
        "Finally, we want to setup a rule to convert the numerical compound sentiment into a qualitative label."
      ]
    },
    {
      "cell_type": "code",
      "execution_count": 17,
      "metadata": {
        "colab": {
          "base_uri": "https://localhost:8080/",
          "height": 824
        },
        "id": "S5YCYXAt2Now",
        "outputId": "97af5ee5-4426-4e57-cccd-b81e288ff998"
      },
      "outputs": [
        {
          "data": {
            "text/html": [
              "<div>\n",
              "<style scoped>\n",
              "    .dataframe tbody tr th:only-of-type {\n",
              "        vertical-align: middle;\n",
              "    }\n",
              "\n",
              "    .dataframe tbody tr th {\n",
              "        vertical-align: top;\n",
              "    }\n",
              "\n",
              "    .dataframe thead th {\n",
              "        text-align: right;\n",
              "    }\n",
              "</style>\n",
              "<table border=\"1\" class=\"dataframe\">\n",
              "  <thead>\n",
              "    <tr style=\"text-align: right;\">\n",
              "      <th></th>\n",
              "      <th>label</th>\n",
              "      <th>review</th>\n",
              "      <th>scores</th>\n",
              "      <th>compound</th>\n",
              "      <th>sentiment</th>\n",
              "    </tr>\n",
              "  </thead>\n",
              "  <tbody>\n",
              "    <tr>\n",
              "      <th>0</th>\n",
              "      <td>pos</td>\n",
              "      <td>Stuning even for the non-gamer: This sound tra...</td>\n",
              "      <td>{'neg': 0.088, 'neu': 0.669, 'pos': 0.243, 'co...</td>\n",
              "      <td>0.9454</td>\n",
              "      <td>pos</td>\n",
              "    </tr>\n",
              "    <tr>\n",
              "      <th>1</th>\n",
              "      <td>pos</td>\n",
              "      <td>The best soundtrack ever to anything.: I'm rea...</td>\n",
              "      <td>{'neg': 0.018, 'neu': 0.837, 'pos': 0.145, 'co...</td>\n",
              "      <td>0.8957</td>\n",
              "      <td>pos</td>\n",
              "    </tr>\n",
              "    <tr>\n",
              "      <th>2</th>\n",
              "      <td>pos</td>\n",
              "      <td>Amazing!: This soundtrack is my favorite music...</td>\n",
              "      <td>{'neg': 0.04, 'neu': 0.692, 'pos': 0.268, 'com...</td>\n",
              "      <td>0.9858</td>\n",
              "      <td>pos</td>\n",
              "    </tr>\n",
              "    <tr>\n",
              "      <th>3</th>\n",
              "      <td>pos</td>\n",
              "      <td>Excellent Soundtrack: I truly like this soundt...</td>\n",
              "      <td>{'neg': 0.09, 'neu': 0.615, 'pos': 0.295, 'com...</td>\n",
              "      <td>0.9814</td>\n",
              "      <td>pos</td>\n",
              "    </tr>\n",
              "    <tr>\n",
              "      <th>4</th>\n",
              "      <td>pos</td>\n",
              "      <td>Remember, Pull Your Jaw Off The Floor After He...</td>\n",
              "      <td>{'neg': 0.0, 'neu': 0.746, 'pos': 0.254, 'comp...</td>\n",
              "      <td>0.9781</td>\n",
              "      <td>pos</td>\n",
              "    </tr>\n",
              "    <tr>\n",
              "      <th>5</th>\n",
              "      <td>pos</td>\n",
              "      <td>an absolute masterpiece: I am quite sure any o...</td>\n",
              "      <td>{'neg': 0.014, 'neu': 0.737, 'pos': 0.249, 'co...</td>\n",
              "      <td>0.9900</td>\n",
              "      <td>pos</td>\n",
              "    </tr>\n",
              "    <tr>\n",
              "      <th>6</th>\n",
              "      <td>neg</td>\n",
              "      <td>Buyer beware: This is a self-published book, a...</td>\n",
              "      <td>{'neg': 0.124, 'neu': 0.806, 'pos': 0.069, 'co...</td>\n",
              "      <td>-0.8744</td>\n",
              "      <td>neg</td>\n",
              "    </tr>\n",
              "    <tr>\n",
              "      <th>7</th>\n",
              "      <td>pos</td>\n",
              "      <td>Glorious story: I loved Whisper of the wicked ...</td>\n",
              "      <td>{'neg': 0.072, 'neu': 0.583, 'pos': 0.346, 'co...</td>\n",
              "      <td>0.9900</td>\n",
              "      <td>pos</td>\n",
              "    </tr>\n",
              "    <tr>\n",
              "      <th>8</th>\n",
              "      <td>pos</td>\n",
              "      <td>A FIVE STAR BOOK: I just finished reading Whis...</td>\n",
              "      <td>{'neg': 0.113, 'neu': 0.712, 'pos': 0.174, 'co...</td>\n",
              "      <td>0.8353</td>\n",
              "      <td>pos</td>\n",
              "    </tr>\n",
              "    <tr>\n",
              "      <th>9</th>\n",
              "      <td>pos</td>\n",
              "      <td>Whispers of the Wicked Saints: This was a easy...</td>\n",
              "      <td>{'neg': 0.033, 'neu': 0.777, 'pos': 0.19, 'com...</td>\n",
              "      <td>0.8196</td>\n",
              "      <td>pos</td>\n",
              "    </tr>\n",
              "    <tr>\n",
              "      <th>10</th>\n",
              "      <td>neg</td>\n",
              "      <td>The Worst!: A complete waste of time. Typograp...</td>\n",
              "      <td>{'neg': 0.36, 'neu': 0.586, 'pos': 0.054, 'com...</td>\n",
              "      <td>-0.9274</td>\n",
              "      <td>neg</td>\n",
              "    </tr>\n",
              "    <tr>\n",
              "      <th>11</th>\n",
              "      <td>pos</td>\n",
              "      <td>Great book: This was a great book,I just could...</td>\n",
              "      <td>{'neg': 0.0, 'neu': 0.836, 'pos': 0.164, 'comp...</td>\n",
              "      <td>0.9538</td>\n",
              "      <td>pos</td>\n",
              "    </tr>\n",
              "    <tr>\n",
              "      <th>12</th>\n",
              "      <td>pos</td>\n",
              "      <td>Great Read: I thought this book was brilliant,...</td>\n",
              "      <td>{'neg': 0.044, 'neu': 0.554, 'pos': 0.402, 'co...</td>\n",
              "      <td>0.9850</td>\n",
              "      <td>pos</td>\n",
              "    </tr>\n",
              "    <tr>\n",
              "      <th>13</th>\n",
              "      <td>neg</td>\n",
              "      <td>Oh please: I guess you have to be a romance no...</td>\n",
              "      <td>{'neg': 0.077, 'neu': 0.723, 'pos': 0.199, 'co...</td>\n",
              "      <td>0.9097</td>\n",
              "      <td>pos</td>\n",
              "    </tr>\n",
              "    <tr>\n",
              "      <th>14</th>\n",
              "      <td>neg</td>\n",
              "      <td>Awful beyond belief!: I feel I have to write t...</td>\n",
              "      <td>{'neg': 0.171, 'neu': 0.755, 'pos': 0.074, 'co...</td>\n",
              "      <td>-0.9312</td>\n",
              "      <td>neg</td>\n",
              "    </tr>\n",
              "    <tr>\n",
              "      <th>15</th>\n",
              "      <td>neg</td>\n",
              "      <td>Don't try to fool us with fake reviews.: It's ...</td>\n",
              "      <td>{'neg': 0.105, 'neu': 0.832, 'pos': 0.063, 'co...</td>\n",
              "      <td>-0.5414</td>\n",
              "      <td>neg</td>\n",
              "    </tr>\n",
              "    <tr>\n",
              "      <th>16</th>\n",
              "      <td>pos</td>\n",
              "      <td>A romantic zen baseball comedy: When you hear ...</td>\n",
              "      <td>{'neg': 0.021, 'neu': 0.818, 'pos': 0.161, 'co...</td>\n",
              "      <td>0.9454</td>\n",
              "      <td>pos</td>\n",
              "    </tr>\n",
              "    <tr>\n",
              "      <th>17</th>\n",
              "      <td>pos</td>\n",
              "      <td>Fashionable Compression Stockings!: After I ha...</td>\n",
              "      <td>{'neg': 0.11, 'neu': 0.754, 'pos': 0.136, 'com...</td>\n",
              "      <td>0.5182</td>\n",
              "      <td>pos</td>\n",
              "    </tr>\n",
              "    <tr>\n",
              "      <th>18</th>\n",
              "      <td>pos</td>\n",
              "      <td>Jobst UltraSheer Thigh High: Excellent product...</td>\n",
              "      <td>{'neg': 0.064, 'neu': 0.771, 'pos': 0.165, 'co...</td>\n",
              "      <td>0.7787</td>\n",
              "      <td>pos</td>\n",
              "    </tr>\n",
              "    <tr>\n",
              "      <th>19</th>\n",
              "      <td>neg</td>\n",
              "      <td>sizes recomended in the size chart are not rea...</td>\n",
              "      <td>{'neg': 0.0, 'neu': 0.935, 'pos': 0.065, 'comp...</td>\n",
              "      <td>0.4926</td>\n",
              "      <td>pos</td>\n",
              "    </tr>\n",
              "    <tr>\n",
              "      <th>20</th>\n",
              "      <td>neg</td>\n",
              "      <td>mens ultrasheer: This model may be ok for sede...</td>\n",
              "      <td>{'neg': 0.134, 'neu': 0.696, 'pos': 0.17, 'com...</td>\n",
              "      <td>0.6318</td>\n",
              "      <td>pos</td>\n",
              "    </tr>\n",
              "    <tr>\n",
              "      <th>21</th>\n",
              "      <td>pos</td>\n",
              "      <td>Delicious cookie mix: I thought it was funny t...</td>\n",
              "      <td>{'neg': 0.044, 'neu': 0.809, 'pos': 0.147, 'co...</td>\n",
              "      <td>0.9517</td>\n",
              "      <td>pos</td>\n",
              "    </tr>\n",
              "    <tr>\n",
              "      <th>22</th>\n",
              "      <td>neg</td>\n",
              "      <td>Another Abysmal Digital Copy: Rather than scra...</td>\n",
              "      <td>{'neg': 0.037, 'neu': 0.819, 'pos': 0.145, 'co...</td>\n",
              "      <td>0.9667</td>\n",
              "      <td>pos</td>\n",
              "    </tr>\n",
              "    <tr>\n",
              "      <th>23</th>\n",
              "      <td>pos</td>\n",
              "      <td>A fascinating insight into the life of modern ...</td>\n",
              "      <td>{'neg': 0.0, 'neu': 0.81, 'pos': 0.19, 'compou...</td>\n",
              "      <td>0.9815</td>\n",
              "      <td>pos</td>\n",
              "    </tr>\n",
              "    <tr>\n",
              "      <th>24</th>\n",
              "      <td>pos</td>\n",
              "      <td>i liked this album more then i thought i would...</td>\n",
              "      <td>{'neg': 0.0, 'neu': 0.775, 'pos': 0.225, 'comp...</td>\n",
              "      <td>0.8979</td>\n",
              "      <td>pos</td>\n",
              "    </tr>\n",
              "  </tbody>\n",
              "</table>\n",
              "</div>"
            ],
            "text/plain": [
              "   label                                             review  \\\n",
              "0    pos  Stuning even for the non-gamer: This sound tra...   \n",
              "1    pos  The best soundtrack ever to anything.: I'm rea...   \n",
              "2    pos  Amazing!: This soundtrack is my favorite music...   \n",
              "3    pos  Excellent Soundtrack: I truly like this soundt...   \n",
              "4    pos  Remember, Pull Your Jaw Off The Floor After He...   \n",
              "5    pos  an absolute masterpiece: I am quite sure any o...   \n",
              "6    neg  Buyer beware: This is a self-published book, a...   \n",
              "7    pos  Glorious story: I loved Whisper of the wicked ...   \n",
              "8    pos  A FIVE STAR BOOK: I just finished reading Whis...   \n",
              "9    pos  Whispers of the Wicked Saints: This was a easy...   \n",
              "10   neg  The Worst!: A complete waste of time. Typograp...   \n",
              "11   pos  Great book: This was a great book,I just could...   \n",
              "12   pos  Great Read: I thought this book was brilliant,...   \n",
              "13   neg  Oh please: I guess you have to be a romance no...   \n",
              "14   neg  Awful beyond belief!: I feel I have to write t...   \n",
              "15   neg  Don't try to fool us with fake reviews.: It's ...   \n",
              "16   pos  A romantic zen baseball comedy: When you hear ...   \n",
              "17   pos  Fashionable Compression Stockings!: After I ha...   \n",
              "18   pos  Jobst UltraSheer Thigh High: Excellent product...   \n",
              "19   neg  sizes recomended in the size chart are not rea...   \n",
              "20   neg  mens ultrasheer: This model may be ok for sede...   \n",
              "21   pos  Delicious cookie mix: I thought it was funny t...   \n",
              "22   neg  Another Abysmal Digital Copy: Rather than scra...   \n",
              "23   pos  A fascinating insight into the life of modern ...   \n",
              "24   pos  i liked this album more then i thought i would...   \n",
              "\n",
              "                                               scores  compound sentiment  \n",
              "0   {'neg': 0.088, 'neu': 0.669, 'pos': 0.243, 'co...    0.9454       pos  \n",
              "1   {'neg': 0.018, 'neu': 0.837, 'pos': 0.145, 'co...    0.8957       pos  \n",
              "2   {'neg': 0.04, 'neu': 0.692, 'pos': 0.268, 'com...    0.9858       pos  \n",
              "3   {'neg': 0.09, 'neu': 0.615, 'pos': 0.295, 'com...    0.9814       pos  \n",
              "4   {'neg': 0.0, 'neu': 0.746, 'pos': 0.254, 'comp...    0.9781       pos  \n",
              "5   {'neg': 0.014, 'neu': 0.737, 'pos': 0.249, 'co...    0.9900       pos  \n",
              "6   {'neg': 0.124, 'neu': 0.806, 'pos': 0.069, 'co...   -0.8744       neg  \n",
              "7   {'neg': 0.072, 'neu': 0.583, 'pos': 0.346, 'co...    0.9900       pos  \n",
              "8   {'neg': 0.113, 'neu': 0.712, 'pos': 0.174, 'co...    0.8353       pos  \n",
              "9   {'neg': 0.033, 'neu': 0.777, 'pos': 0.19, 'com...    0.8196       pos  \n",
              "10  {'neg': 0.36, 'neu': 0.586, 'pos': 0.054, 'com...   -0.9274       neg  \n",
              "11  {'neg': 0.0, 'neu': 0.836, 'pos': 0.164, 'comp...    0.9538       pos  \n",
              "12  {'neg': 0.044, 'neu': 0.554, 'pos': 0.402, 'co...    0.9850       pos  \n",
              "13  {'neg': 0.077, 'neu': 0.723, 'pos': 0.199, 'co...    0.9097       pos  \n",
              "14  {'neg': 0.171, 'neu': 0.755, 'pos': 0.074, 'co...   -0.9312       neg  \n",
              "15  {'neg': 0.105, 'neu': 0.832, 'pos': 0.063, 'co...   -0.5414       neg  \n",
              "16  {'neg': 0.021, 'neu': 0.818, 'pos': 0.161, 'co...    0.9454       pos  \n",
              "17  {'neg': 0.11, 'neu': 0.754, 'pos': 0.136, 'com...    0.5182       pos  \n",
              "18  {'neg': 0.064, 'neu': 0.771, 'pos': 0.165, 'co...    0.7787       pos  \n",
              "19  {'neg': 0.0, 'neu': 0.935, 'pos': 0.065, 'comp...    0.4926       pos  \n",
              "20  {'neg': 0.134, 'neu': 0.696, 'pos': 0.17, 'com...    0.6318       pos  \n",
              "21  {'neg': 0.044, 'neu': 0.809, 'pos': 0.147, 'co...    0.9517       pos  \n",
              "22  {'neg': 0.037, 'neu': 0.819, 'pos': 0.145, 'co...    0.9667       pos  \n",
              "23  {'neg': 0.0, 'neu': 0.81, 'pos': 0.19, 'compou...    0.9815       pos  \n",
              "24  {'neg': 0.0, 'neu': 0.775, 'pos': 0.225, 'comp...    0.8979       pos  "
            ]
          },
          "execution_count": 17,
          "metadata": {},
          "output_type": "execute_result"
        }
      ],
      "source": [
        "df['sentiment'] = df['compound'].apply(lambda c: 'pos' if c >=0 else 'neg')\n",
        "df.head(25)"
      ]
    },
    {
      "cell_type": "markdown",
      "metadata": {
        "id": "N3mdxtun4z22"
      },
      "source": [
        "Finally, let's compare how well aligned are the provided lables with our computed sentiment labels:"
      ]
    },
    {
      "cell_type": "code",
      "execution_count": 18,
      "metadata": {
        "colab": {
          "base_uri": "https://localhost:8080/"
        },
        "id": "bi1llPqz4qXH",
        "outputId": "60804c84-dbaf-4b4b-a2a3-27d06f2cbed8"
      },
      "outputs": [
        {
          "data": {
            "text/plain": [
              "0.7097"
            ]
          },
          "execution_count": 18,
          "metadata": {},
          "output_type": "execute_result"
        }
      ],
      "source": [
        "from sklearn.metrics import accuracy_score\n",
        "accuracy_score(df['label'], df['sentiment'])"
      ]
    },
    {
      "cell_type": "markdown",
      "metadata": {
        "id": "9eIV68SU54Iw"
      },
      "source": [
        "### Additional Task:\n",
        "\n",
        "Dataset US Airline Sentiment (https://www.kaggle.com/crowdflower/twitter-airline-sentiment) contains tweets generated since February 2015 about each of the major US airline. Tweets are classified positive, negative or neutral. The included features including Twitter ID, sentiment confidence score, sentiments, negative reasons, airline name, retweet count, name, tweet text, tweet coordinates, date and time of the tweet, and the location of the tweet.\n",
        "\n",
        "Please read in the provided dataset Twitter.csv, and perform sentiment analysis on this data set. \n",
        "\n",
        "Please answer the following questions:\n",
        "\n",
        "* How many tweets are there in the given set?\n",
        "* What percentage of tweets are labeled as positive?\n",
        "* What percentage of tweets are labeled as negative?\n",
        "* What percentage of tweets are labeled as positive by our sentiment intensity analyzer?\n",
        "* What percentage of tweets are labeled as negative by our sentiment intensity analyzer?\n",
        "* How well aligned are the originally provided labels, and the labels computed by our sentiment intensity analyzer?"
      ]
    },
    {
      "cell_type": "code",
      "execution_count": 19,
      "metadata": {
        "id": "IGVLH0q57TL9"
      },
      "outputs": [
        {
          "name": "stdout",
          "output_type": "stream",
          "text": [
            "14640\n",
            "negative    9178\n",
            "neutral     3099\n",
            "positive    2363\n",
            "Name: airline_sentiment, dtype: int64\n",
            "positive:  16.14 %\n",
            "negative:  62.69 %\n",
            "percentage of positive from sentiment analyzer:  64.79 %\n",
            "percentage of negative from sentiment analyzer:  35.21 %\n"
          ]
        },
        {
          "data": {
            "text/plain": [
              "0.4712431693989071"
            ]
          },
          "execution_count": 19,
          "metadata": {},
          "output_type": "execute_result"
        }
      ],
      "source": [
        "# Your code here\n",
        "import numpy as np\n",
        "import pandas as pd\n",
        "from sklearn.metrics import accuracy_score\n",
        "\n",
        "df = pd.read_csv('Tweets.csv')\n",
        "number_of_tweets = df['tweet_id'].count()\n",
        "print(number_of_tweets)\n",
        "\n",
        "print(df.airline_sentiment.value_counts())  # negative: 9178 positive 2363 neutral 3099\n",
        "POSITIVE = 2363\n",
        "NEGATIVE = 9178\n",
        "percentage_positive = round((POSITIVE / number_of_tweets) * 100, 2)\n",
        "print('positive: ', percentage_positive, '%')\n",
        "percentatge_negative = round((NEGATIVE / number_of_tweets) * 100, 2)\n",
        "print('negative: ', percentatge_negative, '%')\n",
        "\n",
        "\n",
        "df['scores'] = df.text.apply(lambda text: sentimentAnalyzer.polarity_scores(text))\n",
        "df['compound'] = df['scores'].apply(lambda score_dict: score_dict['compound'])\n",
        "df['sentiment'] = df['compound'].apply(lambda c: 'positive' if c >=0 else 'negative')\n",
        "\n",
        "df.sentiment.value_counts()\n",
        "POSITIVE_ANALYZER = 9485\n",
        "NEGATIVE_ANALYZER = 5155\n",
        "percentage_of_positive_analyzer = round((POSITIVE_ANALYZER / number_of_tweets) * 100, 2)\n",
        "print('percentage of positive from sentiment analyzer: ', percentage_of_positive_analyzer, '%')\n",
        "\n",
        "percentage_of_negative_analyzer = round((NEGATIVE_ANALYZER / number_of_tweets) * 100, 2)\n",
        "print('percentage of negative from sentiment analyzer: ', percentage_of_negative_analyzer, '%')\n",
        "\n",
        "accuracy_score(df['airline_sentiment'], df['sentiment'])"
      ]
    },
    {
      "cell_type": "markdown",
      "metadata": {
        "id": "1mvBFgWt-L-x"
      },
      "source": [
        "## Problem 4 - Analyzing Your Own Data Set [35 points]\n",
        "\n",
        "Your Task:\n",
        "\n",
        "Please find another freely available data set (labeled or not) and perform sentiment analysis on this new data set.\n",
        "\n",
        "Please answer the following questions:\n",
        "How many tweets are there in the given set?\n",
        "What percentage of tweets are labeled as positive?\n",
        "What percentage of tweets are labeled as negative?\n",
        "What percentage of tweets are labeled as positive by our sentiment intensity analyzer?\n",
        "What percentage of tweets are labeled as negative by our sentiment intensity analyzer?\n",
        "How well aligned are the originally provided labels, and the labels computed by our sentiment intensity analyzer?\n",
        "\n"
      ]
    },
    {
      "cell_type": "code",
      "execution_count": 20,
      "metadata": {
        "id": "gs2NT_UJ-bfS"
      },
      "outputs": [
        {
          "name": "stdout",
          "output_type": "stream",
          "text": [
            "31962\n",
            "0    29720\n",
            "1     2242\n",
            "Name: label, dtype: int64\n",
            "toxic(negative) :  7.01 %\n",
            "non_toxic(positive) :  92.99 %\n",
            "1    19449\n",
            "0    12513\n",
            "Name: sentiment, dtype: int64\n",
            "toxic from analyzer:  60.85 %\n",
            "non-toxic from analyzer:  39.15 %\n",
            "0.415712408485076\n"
          ]
        }
      ],
      "source": [
        "# Your code here\n",
        "# data is from: https://www.kaggle.com/arkhoshghalb/twitter-sentiment-analysis-hatred-speech\n",
        "# used train.csv\n",
        "import numpy as np\n",
        "import pandas as pd\n",
        "from sklearn.metrics import accuracy_score\n",
        "\n",
        "df = pd.read_csv('train.csv')\n",
        "number_of_tweets = df['id'].count()\n",
        "print(number_of_tweets)  # 31962\n",
        "\n",
        "print(df.label.value_counts())  # 1: toxic; 2242 0: non-toxic; 29720\n",
        "TOXIC = 2242  # negative\n",
        "NON_TOXIC = 29720  # positive\n",
        "percentage_toxic = round((TOXIC / number_of_tweets) * 100, 2)\n",
        "print('toxic(negative) : ', percentage_toxic, '%')\n",
        "percentatge_non_toxic = round((NON_TOXIC / number_of_tweets) * 100, 2)\n",
        "print('non_toxic(positive) : ', percentatge_non_toxic, '%')\n",
        "\n",
        "\n",
        "df['scores'] = df.tweet.apply(lambda tweet: sentimentAnalyzer.polarity_scores(tweet))\n",
        "df['compound'] = df['scores'].apply(lambda score_dict: score_dict['compound'])\n",
        "df['sentiment'] = df['compound'].apply(lambda c: '0' if c ==0 else '1')\n",
        "\n",
        "sentiments = df.sentiment.value_counts()\n",
        "print(sentiments)\n",
        "\n",
        "ANALYZER_TOXIC = 19449\n",
        "ANALYZER_NON_TOXIC = 12513\n",
        "\n",
        "percentage_of_toxic_analyzer = round((ANALYZER_TOXIC / number_of_tweets) * 100, 2)\n",
        "percentage_of_non_toxic_analyzer = round((ANALYZER_NON_TOXIC / number_of_tweets) * 100, 2)\n",
        "\n",
        "print('toxic from analyzer: ', percentage_of_toxic_analyzer, '%')\n",
        "print('non-toxic from analyzer: ', percentage_of_non_toxic_analyzer, '%')\n",
        "\n",
        "a = accuracy_score(df['label'], pd.to_numeric(df['sentiment']))  # needed to change data type to 'int' from str\n",
        "print(a)"
      ]
    },
    {
      "cell_type": "markdown",
      "metadata": {
        "id": "qQtddksA-d4V"
      },
      "source": [
        "## Problem 5 - Expanding the Number of Sentiment Categories [10 points]\n",
        "\n",
        "In problems 1, 2 and 3, we have worked with only three sentiment labels - positive, negative and neutral. \n",
        "\n",
        "Please propose an expanded set of sentiment labels (e.g., very positive, very negative), and provide a reasoning as to how such an expansion would be helpful/harmful in analyzing sentiment. "
      ]
    },
    {
      "cell_type": "markdown",
      "metadata": {
        "id": "GRDMiKIX_IuZ"
      },
      "source": [
        "### Your answer here:\n",
        "\n",
        "\n",
        "\n"
      ]
    },
    {
      "cell_type": "markdown",
      "metadata": {},
      "source": [
        "If the labels can be expanded more in details I would assume positive labels can be subdivided into: very positive, positive, somewhat positive, neutral (if neutral is included). And negative labels can be subdivided into: somewhat negative, negative, very negative. I have seen many survey questions that are divided similar to the above and believe there should be a reason to it as it is more specific in that they can bring more diverse sentiment to analysis. However the downside of having more subdivided labels in analysis can make the analyzing process more time-consuming and can be more complex as there are more sentiment categories to count. I think at some point of time toward the end of analysis we should gather those small parts and make an average analysis in practice; therefore, in my opinion, the labels as simple as positive, neutral, and negative is clear enough to convey sentiment in an analysis."
      ]
    },
    {
      "cell_type": "markdown",
      "metadata": {
        "id": "lcYu4WrN_MAw"
      },
      "source": [
        "## Problem 6 - Problems with Sentiment Analysis [10 points]\n",
        "\n",
        "Having had a chance to play with our setiment intensity analyzer, please list out at least five possible issues you can imagine/anticipate could happen with sentiment analyzers are used in real-world data-driven and decision-making systems."
      ]
    },
    {
      "cell_type": "markdown",
      "metadata": {},
      "source": [
        "1. Just like we could outsmart the sentiment analyzer outsmarting the analyzer can happen many times in real world that it might give not precise information\n",
        "2. It can misread tones involving sarcasms, some jokes, exaggration\n",
        "3. I am not sure if the analyzer can understand jargons we use; it might be technical, or medical, etc. In this case I imagine it will not be able to correctly analyze the sentiment\n",
        "4. If data provided has insufficient data it won't give the result we wanted\n",
        "5. If the sentences in data are long enough to confuse the analyzer it will also be hard to rely on the result"
      ]
    }
  ],
  "metadata": {
    "colab": {
      "name": "Untitled0.ipynb",
      "provenance": []
    },
    "kernelspec": {
      "display_name": "Python 3.10.2 64-bit",
      "language": "python",
      "name": "python3"
    },
    "language_info": {
      "codemirror_mode": {
        "name": "ipython",
        "version": 3
      },
      "file_extension": ".py",
      "mimetype": "text/x-python",
      "name": "python",
      "nbconvert_exporter": "python",
      "pygments_lexer": "ipython3",
      "version": "3.10.2"
    },
    "vscode": {
      "interpreter": {
        "hash": "aee8b7b246df8f9039afb4144a1f6fd8d2ca17a180786b69acc140d282b71a49"
      }
    }
  },
  "nbformat": 4,
  "nbformat_minor": 0
}
